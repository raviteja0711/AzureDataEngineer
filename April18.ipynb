{
  "nbformat": 4,
  "nbformat_minor": 0,
  "metadata": {
    "colab": {
      "provenance": [],
      "authorship_tag": "ABX9TyOpheb5eRK3GNc8aSK00Yv5",
      "include_colab_link": true
    },
    "kernelspec": {
      "name": "python3",
      "display_name": "Python 3"
    },
    "language_info": {
      "name": "python"
    }
  },
  "cells": [
    {
      "cell_type": "markdown",
      "metadata": {
        "id": "view-in-github",
        "colab_type": "text"
      },
      "source": [
        "<a href=\"https://colab.research.google.com/github/raviteja0711/AzureDataEngineer/blob/main/April18.ipynb\" target=\"_parent\"><img src=\"https://colab.research.google.com/assets/colab-badge.svg\" alt=\"Open In Colab\"/></a>"
      ]
    },
    {
      "cell_type": "code",
      "execution_count": null,
      "metadata": {
        "colab": {
          "base_uri": "https://localhost:8080/"
        },
        "id": "g7y3hOK2otyc",
        "outputId": "61af4887-0d99-42bf-a289-34dfe441b04e"
      },
      "outputs": [
        {
          "output_type": "stream",
          "name": "stdout",
          "text": [
            "openjdk 11.0.26 2025-01-21\n",
            "OpenJDK Runtime Environment (build 11.0.26+4-post-Ubuntu-1ubuntu122.04)\n",
            "OpenJDK 64-Bit Server VM (build 11.0.26+4-post-Ubuntu-1ubuntu122.04, mixed mode, sharing)\n"
          ]
        }
      ],
      "source": [
        "!java --version"
      ]
    },
    {
      "cell_type": "code",
      "source": [
        "!python --version"
      ],
      "metadata": {
        "colab": {
          "base_uri": "https://localhost:8080/"
        },
        "id": "E_GKJ9AHo5I3",
        "outputId": "f9c8401f-4041-446b-d7a7-2fb4358da37b"
      },
      "execution_count": null,
      "outputs": [
        {
          "output_type": "stream",
          "name": "stdout",
          "text": [
            "Python 3.11.12\n"
          ]
        }
      ]
    },
    {
      "cell_type": "code",
      "source": [
        "!pip install pyspark findspark"
      ],
      "metadata": {
        "colab": {
          "base_uri": "https://localhost:8080/"
        },
        "id": "5PkoARA5o_-A",
        "outputId": "4d3f8551-c3d4-4654-b780-052ba874235b"
      },
      "execution_count": null,
      "outputs": [
        {
          "output_type": "stream",
          "name": "stdout",
          "text": [
            "Requirement already satisfied: pyspark in /usr/local/lib/python3.11/dist-packages (3.5.5)\n",
            "Collecting findspark\n",
            "  Downloading findspark-2.0.1-py2.py3-none-any.whl.metadata (352 bytes)\n",
            "Requirement already satisfied: py4j==0.10.9.7 in /usr/local/lib/python3.11/dist-packages (from pyspark) (0.10.9.7)\n",
            "Downloading findspark-2.0.1-py2.py3-none-any.whl (4.4 kB)\n",
            "Installing collected packages: findspark\n",
            "Successfully installed findspark-2.0.1\n"
          ]
        }
      ]
    },
    {
      "cell_type": "code",
      "source": [
        "import findspark\n",
        "findspark.init()"
      ],
      "metadata": {
        "id": "oFuGOotHpCpp"
      },
      "execution_count": null,
      "outputs": []
    },
    {
      "cell_type": "code",
      "source": [
        "from pyspark.sql import SparkSession\n",
        "\n",
        "spark = SparkSession.builder.appName(\"myapp\").getOrCreate()"
      ],
      "metadata": {
        "id": "WqCrI2OppD_h"
      },
      "execution_count": null,
      "outputs": []
    },
    {
      "cell_type": "code",
      "source": [
        "sc = spark.sparkContext\n"
      ],
      "metadata": {
        "id": "kOYEKYD-pGkp"
      },
      "execution_count": null,
      "outputs": []
    },
    {
      "cell_type": "code",
      "source": [
        "sc"
      ],
      "metadata": {
        "colab": {
          "base_uri": "https://localhost:8080/",
          "height": 196
        },
        "id": "EJw5KumNpIZK",
        "outputId": "9c335ea3-5180-4859-dab2-2978745f535e"
      },
      "execution_count": null,
      "outputs": [
        {
          "output_type": "execute_result",
          "data": {
            "text/plain": [
              "<SparkContext master=local[*] appName=myapp>"
            ],
            "text/html": [
              "\n",
              "        <div>\n",
              "            <p><b>SparkContext</b></p>\n",
              "\n",
              "            <p><a href=\"http://0bd0d63a27bd:4040\">Spark UI</a></p>\n",
              "\n",
              "            <dl>\n",
              "              <dt>Version</dt>\n",
              "                <dd><code>v3.5.5</code></dd>\n",
              "              <dt>Master</dt>\n",
              "                <dd><code>local[*]</code></dd>\n",
              "              <dt>AppName</dt>\n",
              "                <dd><code>myapp</code></dd>\n",
              "            </dl>\n",
              "        </div>\n",
              "        "
            ]
          },
          "metadata": {},
          "execution_count": 8
        }
      ]
    },
    {
      "cell_type": "code",
      "source": [
        "data = sc.textFile('/content/empsample.txt')\n",
        "data.count()"
      ],
      "metadata": {
        "id": "tjZhLnpCpJwS",
        "colab": {
          "base_uri": "https://localhost:8080/"
        },
        "outputId": "e1e217f2-e15f-41c0-c72c-3ed9cc04ca9d"
      },
      "execution_count": 11,
      "outputs": [
        {
          "output_type": "execute_result",
          "data": {
            "text/plain": [
              "9"
            ]
          },
          "metadata": {},
          "execution_count": 11
        }
      ]
    },
    {
      "cell_type": "code",
      "source": [
        "data.collect()"
      ],
      "metadata": {
        "id": "fG12BklCpMR8",
        "colab": {
          "base_uri": "https://localhost:8080/"
        },
        "outputId": "717632e2-76b9-4c05-c9f9-7eef6dc889db"
      },
      "execution_count": 12,
      "outputs": [
        {
          "output_type": "execute_result",
          "data": {
            "text/plain": [
              "['101,amar,90000,m,11',\n",
              " '102,amala,20000,f,12',\n",
              " '103,ankit,40000,m,13',\n",
              " '104,ankita,60000,f,13',\n",
              " '105,anusha,110000,f,12',\n",
              " '106,anuz,200000,m,11',\n",
              " '107,akash,100000,m,12',\n",
              " '108,siva,200000,m,14',\n",
              " '109,sivani,300000,f,15']"
            ]
          },
          "metadata": {},
          "execution_count": 12
        }
      ]
    },
    {
      "cell_type": "code",
      "source": [
        "words = data.map(lambda x : x.split(',') )\n",
        "words.collect()"
      ],
      "metadata": {
        "colab": {
          "base_uri": "https://localhost:8080/"
        },
        "id": "kAp4VhP6qIH7",
        "outputId": "abf5a4d7-cf81-437e-c221-4e34ad829542"
      },
      "execution_count": 13,
      "outputs": [
        {
          "output_type": "execute_result",
          "data": {
            "text/plain": [
              "[['101', 'amar', '90000', 'm', '11'],\n",
              " ['102', 'amala', '20000', 'f', '12'],\n",
              " ['103', 'ankit', '40000', 'm', '13'],\n",
              " ['104', 'ankita', '60000', 'f', '13'],\n",
              " ['105', 'anusha', '110000', 'f', '12'],\n",
              " ['106', 'anuz', '200000', 'm', '11'],\n",
              " ['107', 'akash', '100000', 'm', '12'],\n",
              " ['108', 'siva', '200000', 'm', '14'],\n",
              " ['109', 'sivani', '300000', 'f', '15']]"
            ]
          },
          "metadata": {},
          "execution_count": 13
        }
      ]
    },
    {
      "cell_type": "code",
      "source": [
        "salary = words.map(lambda x : int(x[2]) )\n",
        "salary.collect()"
      ],
      "metadata": {
        "colab": {
          "base_uri": "https://localhost:8080/"
        },
        "id": "45ZP6FAhqLwO",
        "outputId": "e32acdb3-1720-46d5-a936-8637d373c7df"
      },
      "execution_count": 14,
      "outputs": [
        {
          "output_type": "execute_result",
          "data": {
            "text/plain": [
              "[90000, 20000, 40000, 60000, 110000, 200000, 100000, 200000, 300000]"
            ]
          },
          "metadata": {},
          "execution_count": 14
        }
      ]
    },
    {
      "cell_type": "code",
      "source": [
        "salary"
      ],
      "metadata": {
        "colab": {
          "base_uri": "https://localhost:8080/"
        },
        "id": "tiFydFYWqNbV",
        "outputId": "e4abeb8f-474c-46d5-a82f-a7426aaa994a"
      },
      "execution_count": 15,
      "outputs": [
        {
          "output_type": "execute_result",
          "data": {
            "text/plain": [
              "PythonRDD[7] at collect at <ipython-input-14-23f62a6f0b14>:2"
            ]
          },
          "metadata": {},
          "execution_count": 15
        }
      ]
    },
    {
      "cell_type": "code",
      "source": [
        "!java --version"
      ],
      "metadata": {
        "colab": {
          "base_uri": "https://localhost:8080/"
        },
        "id": "J0augiIOqPZ0",
        "outputId": "a3c4f40d-37e4-475e-a123-abd035da4bd5"
      },
      "execution_count": 16,
      "outputs": [
        {
          "output_type": "stream",
          "name": "stdout",
          "text": [
            "openjdk 11.0.26 2025-01-21\n",
            "OpenJDK Runtime Environment (build 11.0.26+4-post-Ubuntu-1ubuntu122.04)\n",
            "OpenJDK 64-Bit Server VM (build 11.0.26+4-post-Ubuntu-1ubuntu122.04, mixed mode, sharing)\n"
          ]
        }
      ]
    },
    {
      "cell_type": "code",
      "source": [
        "words = data.map(lambda x : x.split(',') )\n",
        "words.collect()"
      ],
      "metadata": {
        "colab": {
          "base_uri": "https://localhost:8080/"
        },
        "id": "R1G42AIlqR5p",
        "outputId": "ecaff009-b6ae-4c0b-f999-16b974ea5b87"
      },
      "execution_count": 17,
      "outputs": [
        {
          "output_type": "execute_result",
          "data": {
            "text/plain": [
              "[['101', 'amar', '90000', 'm', '11'],\n",
              " ['102', 'amala', '20000', 'f', '12'],\n",
              " ['103', 'ankit', '40000', 'm', '13'],\n",
              " ['104', 'ankita', '60000', 'f', '13'],\n",
              " ['105', 'anusha', '110000', 'f', '12'],\n",
              " ['106', 'anuz', '200000', 'm', '11'],\n",
              " ['107', 'akash', '100000', 'm', '12'],\n",
              " ['108', 'siva', '200000', 'm', '14'],\n",
              " ['109', 'sivani', '300000', 'f', '15']]"
            ]
          },
          "metadata": {},
          "execution_count": 17
        }
      ]
    },
    {
      "cell_type": "code",
      "source": [
        "salary = words.map(lambda x : int(x[2]) )\n",
        "salary.collect()"
      ],
      "metadata": {
        "colab": {
          "base_uri": "https://localhost:8080/"
        },
        "id": "ie5AMPeFqUnk",
        "outputId": "2339c33b-1e40-47db-a5d6-35586030f7a4"
      },
      "execution_count": 18,
      "outputs": [
        {
          "output_type": "execute_result",
          "data": {
            "text/plain": [
              "[90000, 20000, 40000, 60000, 110000, 200000, 100000, 200000, 300000]"
            ]
          },
          "metadata": {},
          "execution_count": 18
        }
      ]
    },
    {
      "cell_type": "code",
      "source": [
        "totsal = salary.sum()\n",
        "totsal"
      ],
      "metadata": {
        "colab": {
          "base_uri": "https://localhost:8080/"
        },
        "id": "woUry4jaqWS7",
        "outputId": "859ec593-61b4-4753-9493-099bc430ef12"
      },
      "execution_count": 19,
      "outputs": [
        {
          "output_type": "execute_result",
          "data": {
            "text/plain": [
              "1120000"
            ]
          },
          "metadata": {},
          "execution_count": 19
        }
      ]
    },
    {
      "cell_type": "code",
      "source": [
        "totsal = salary.reduce(lambda x,y : x+y)\n",
        "totsal"
      ],
      "metadata": {
        "colab": {
          "base_uri": "https://localhost:8080/"
        },
        "id": "dm3-xD8YqYbc",
        "outputId": "5649d17c-3569-43ed-aa06-29f3c7212de4"
      },
      "execution_count": 20,
      "outputs": [
        {
          "output_type": "execute_result",
          "data": {
            "text/plain": [
              "1120000"
            ]
          },
          "metadata": {},
          "execution_count": 20
        }
      ]
    },
    {
      "cell_type": "code",
      "source": [
        "pair = words.map(lambda x : (x[-2],int(x[2]) ) )\n",
        "pair.collect()"
      ],
      "metadata": {
        "colab": {
          "base_uri": "https://localhost:8080/"
        },
        "id": "UEWnSJAcqbQJ",
        "outputId": "cd3276df-a084-473c-a0e2-704e040ac0fc"
      },
      "execution_count": 21,
      "outputs": [
        {
          "output_type": "execute_result",
          "data": {
            "text/plain": [
              "[('m', 90000),\n",
              " ('f', 20000),\n",
              " ('m', 40000),\n",
              " ('f', 60000),\n",
              " ('f', 110000),\n",
              " ('m', 200000),\n",
              " ('m', 100000),\n",
              " ('m', 200000),\n",
              " ('f', 300000)]"
            ]
          },
          "metadata": {},
          "execution_count": 21
        }
      ]
    },
    {
      "cell_type": "code",
      "source": [
        "gtot = pair.reduceByKey(lambda x, y : x + y)\n",
        "gtot.collect()"
      ],
      "metadata": {
        "colab": {
          "base_uri": "https://localhost:8080/"
        },
        "id": "IfmMxiAkqtch",
        "outputId": "e767b47a-bd77-4835-f2a1-36fec2ba6f31"
      },
      "execution_count": 22,
      "outputs": [
        {
          "output_type": "execute_result",
          "data": {
            "text/plain": [
              "[('m', 630000), ('f', 490000)]"
            ]
          },
          "metadata": {},
          "execution_count": 22
        }
      ]
    },
    {
      "cell_type": "code",
      "source": [
        "dpair = words.map(lambda x: (x[-1], int(x[2]) ) )\n",
        "dpair.collect()"
      ],
      "metadata": {
        "colab": {
          "base_uri": "https://localhost:8080/"
        },
        "id": "J29pG4iZq0a_",
        "outputId": "3682e7c9-8f03-49d3-bfe0-bfa0ec8b0b08"
      },
      "execution_count": 23,
      "outputs": [
        {
          "output_type": "execute_result",
          "data": {
            "text/plain": [
              "[('11', 90000),\n",
              " ('12', 20000),\n",
              " ('13', 40000),\n",
              " ('13', 60000),\n",
              " ('12', 110000),\n",
              " ('11', 200000),\n",
              " ('12', 100000),\n",
              " ('14', 200000),\n",
              " ('15', 300000)]"
            ]
          },
          "metadata": {},
          "execution_count": 23
        }
      ]
    },
    {
      "cell_type": "code",
      "source": [
        "dtot = dpair.reduceByKey(lambda x, y : x + y)\n",
        "dtot.collect()"
      ],
      "metadata": {
        "colab": {
          "base_uri": "https://localhost:8080/"
        },
        "id": "B9MC8zr_rDP6",
        "outputId": "02985373-92df-4180-f398-06ef4a88b6e6"
      },
      "execution_count": 24,
      "outputs": [
        {
          "output_type": "execute_result",
          "data": {
            "text/plain": [
              "[('13', 100000),\n",
              " ('14', 200000),\n",
              " ('15', 300000),\n",
              " ('11', 290000),\n",
              " ('12', 230000)]"
            ]
          },
          "metadata": {},
          "execution_count": 24
        }
      ]
    },
    {
      "cell_type": "code",
      "source": [
        "gmax = pair.reduceByKey(lambda x, y : max(x,y))\n",
        "gmax.collect()"
      ],
      "metadata": {
        "colab": {
          "base_uri": "https://localhost:8080/"
        },
        "id": "GYvodCKmrHYn",
        "outputId": "1c565c20-fbc5-43f4-80da-7c4036d589b9"
      },
      "execution_count": 25,
      "outputs": [
        {
          "output_type": "execute_result",
          "data": {
            "text/plain": [
              "[('m', 200000), ('f', 300000)]"
            ]
          },
          "metadata": {},
          "execution_count": 25
        }
      ]
    },
    {
      "cell_type": "code",
      "source": [
        "gmax = pair.reduceByKey(lambda x, y : min(x,y))\n",
        "gmax.collect()"
      ],
      "metadata": {
        "colab": {
          "base_uri": "https://localhost:8080/"
        },
        "id": "L7OVhSnkrVdN",
        "outputId": "38e1a6b7-34bd-44f9-ad43-acb3586eacb3"
      },
      "execution_count": 26,
      "outputs": [
        {
          "output_type": "execute_result",
          "data": {
            "text/plain": [
              "[('m', 40000), ('f', 20000)]"
            ]
          },
          "metadata": {},
          "execution_count": 26
        }
      ]
    },
    {
      "cell_type": "code",
      "source": [],
      "metadata": {
        "id": "O4BmBOSDwS6R"
      },
      "execution_count": null,
      "outputs": []
    },
    {
      "cell_type": "code",
      "source": [
        "gmax = dpair.reduceByKey(lambda x, y : min(x,y))\n",
        "gmax.collect()"
      ],
      "metadata": {
        "colab": {
          "base_uri": "https://localhost:8080/"
        },
        "outputId": "50c0a754-aad0-44bc-f735-4271d2f22bd2",
        "id": "c-zZPd-UwXmH"
      },
      "execution_count": 27,
      "outputs": [
        {
          "output_type": "execute_result",
          "data": {
            "text/plain": [
              "[('13', 40000), ('14', 200000), ('15', 300000), ('11', 90000), ('12', 20000)]"
            ]
          },
          "metadata": {},
          "execution_count": 27
        }
      ]
    },
    {
      "cell_type": "code",
      "source": [],
      "metadata": {
        "id": "u1oqsSK5wZyC"
      },
      "execution_count": null,
      "outputs": []
    }
  ]
}